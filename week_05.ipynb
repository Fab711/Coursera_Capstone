{
    "nbformat_minor": 1, 
    "cells": [
        {
            "source": "# Open a new beer garden", 
            "cell_type": "markdown", 
            "metadata": {
                "collapsed": true
            }
        }, 
        {
            "source": "###  The metology\n1) Create a dataframe that holds the districts of Munich with latitudes and longitudes  \n2) Use Foursquare to find the top venues in every district  \n3) Use one hot encoding to determine the concentrations of each venue category  \n4) Slice and sort dataframe to find district with highest concentration of Turkish Restaurants  ", 
            "cell_type": "markdown", 
            "metadata": {}
        }, 
        {
            "source": "### Dataframe of munich", 
            "cell_type": "markdown", 
            "metadata": {}
        }, 
        {
            "execution_count": 6, 
            "cell_type": "code", 
            "metadata": {}, 
            "outputs": [], 
            "source": "#Imports\nimport pandas as pd \nimport numpy as np\nimport requests\n\n#!conda install -c conda-forge geopy --yes\nfrom geopy.geocoders import Nominatim"
        }, 
        {
            "execution_count": 3, 
            "cell_type": "code", 
            "metadata": {}, 
            "outputs": [], 
            "source": "districts_of_munich = ['Altstadt-Lehel', 'Ludwigsvorstadt-Isarvorstadt', 'Maxvorstadt', 'Schwabing-West', 'Au-Haidhausen', 'Sendling',\n                       'Sendling-Westpark', 'Schwanthalerh\u00f6he', 'Neuhausen-Nymphenburg', 'Moosach', 'Milbertshofen-Am Hart', 'Schwabing-Freimann',\n                       'Bogenhausen', 'Berg am Laim', 'Trudering-Riem', 'Ramersdorf-Perlach', 'Obergiesing-Fasangarten', 'Untergiesing-Harlaching',\n                       'Thalkirchen-Obersendling-Forstenried-F\u00fcrstenried-Solln', 'Hadern', 'Pasing-Obermenzing', 'Aubing-Lochhausen-Langwied', \n                       'Allach-Untermenzing', 'Feldmoching-Hasenbergl', 'Laim']"
        }, 
        {
            "execution_count": 4, 
            "cell_type": "code", 
            "metadata": {
                "scrolled": true
            }, 
            "outputs": [
                {
                    "execution_count": 4, 
                    "metadata": {}, 
                    "data": {
                        "text/html": "<div>\n<style scoped>\n    .dataframe tbody tr th:only-of-type {\n        vertical-align: middle;\n    }\n\n    .dataframe tbody tr th {\n        vertical-align: top;\n    }\n\n    .dataframe thead th {\n        text-align: right;\n    }\n</style>\n<table border=\"1\" class=\"dataframe\">\n  <thead>\n    <tr style=\"text-align: right;\">\n      <th></th>\n      <th>District</th>\n    </tr>\n  </thead>\n  <tbody>\n    <tr>\n      <th>0</th>\n      <td>Altstadt-Lehel</td>\n    </tr>\n    <tr>\n      <th>1</th>\n      <td>Ludwigsvorstadt-Isarvorstadt</td>\n    </tr>\n    <tr>\n      <th>2</th>\n      <td>Maxvorstadt</td>\n    </tr>\n    <tr>\n      <th>3</th>\n      <td>Schwabing-West</td>\n    </tr>\n    <tr>\n      <th>4</th>\n      <td>Au-Haidhausen</td>\n    </tr>\n  </tbody>\n</table>\n</div>", 
                        "text/plain": "                       District\n0                Altstadt-Lehel\n1  Ludwigsvorstadt-Isarvorstadt\n2                   Maxvorstadt\n3                Schwabing-West\n4                 Au-Haidhausen"
                    }, 
                    "output_type": "execute_result"
                }
            ], 
            "source": "districts_df = pd.DataFrame(data = districts_of_munich, columns=['District'])\ndistricts_df.head()"
        }, 
        {
            "source": "### Using GeoPy to get location", 
            "cell_type": "markdown", 
            "metadata": {}
        }, 
        {
            "execution_count": 7, 
            "cell_type": "code", 
            "metadata": {}, 
            "outputs": [], 
            "source": "latitudes = []\nlongitudes = []"
        }, 
        {
            "execution_count": 9, 
            "cell_type": "code", 
            "metadata": {}, 
            "outputs": [], 
            "source": "for hood in districts_of_munich:\n    address = '{}, Munich, Germany'.format(hood)\n    \n    geolocator = Nominatim(user_agent=\"ny_explorer\")\n    location = geolocator.geocode(address)\n    \n    latitude = location.latitude\n    latitudes.append(latitude)\n    \n    longitude = location.longitude\n    longitudes.append(longitude)"
        }, 
        {
            "execution_count": 10, 
            "cell_type": "code", 
            "metadata": {}, 
            "outputs": [], 
            "source": "districts_df['Latitudes'] = latitudes\ndistricts_df['Longitudes'] = longitudes"
        }, 
        {
            "execution_count": 11, 
            "cell_type": "code", 
            "metadata": {}, 
            "outputs": [
                {
                    "execution_count": 11, 
                    "metadata": {}, 
                    "data": {
                        "text/html": "<div>\n<style scoped>\n    .dataframe tbody tr th:only-of-type {\n        vertical-align: middle;\n    }\n\n    .dataframe tbody tr th {\n        vertical-align: top;\n    }\n\n    .dataframe thead th {\n        text-align: right;\n    }\n</style>\n<table border=\"1\" class=\"dataframe\">\n  <thead>\n    <tr style=\"text-align: right;\">\n      <th></th>\n      <th>District</th>\n      <th>Latitudes</th>\n      <th>Longitudes</th>\n    </tr>\n  </thead>\n  <tbody>\n    <tr>\n      <th>0</th>\n      <td>Altstadt-Lehel</td>\n      <td>48.137828</td>\n      <td>11.574582</td>\n    </tr>\n    <tr>\n      <th>1</th>\n      <td>Ludwigsvorstadt-Isarvorstadt</td>\n      <td>48.131771</td>\n      <td>11.555809</td>\n    </tr>\n    <tr>\n      <th>2</th>\n      <td>Maxvorstadt</td>\n      <td>48.146570</td>\n      <td>11.571445</td>\n    </tr>\n    <tr>\n      <th>3</th>\n      <td>Schwabing-West</td>\n      <td>48.164417</td>\n      <td>11.570364</td>\n    </tr>\n    <tr>\n      <th>4</th>\n      <td>Au-Haidhausen</td>\n      <td>48.128753</td>\n      <td>11.590536</td>\n    </tr>\n  </tbody>\n</table>\n</div>", 
                        "text/plain": "                       District  Latitudes  Longitudes\n0                Altstadt-Lehel  48.137828   11.574582\n1  Ludwigsvorstadt-Isarvorstadt  48.131771   11.555809\n2                   Maxvorstadt  48.146570   11.571445\n3                Schwabing-West  48.164417   11.570364\n4                 Au-Haidhausen  48.128753   11.590536"
                    }, 
                    "output_type": "execute_result"
                }
            ], 
            "source": "districts_df.head()"
        }, 
        {
            "source": "### Top venues of every district using Foursquare", 
            "cell_type": "markdown", 
            "metadata": {}
        }, 
        {
            "execution_count": 19, 
            "cell_type": "code", 
            "metadata": {}, 
            "outputs": [
                {
                    "output_type": "stream", 
                    "name": "stdout", 
                    "text": "Your credentails:\nCLIENT_ID: \nCLIENT_SECRET:\n"
                }
            ], 
            "source": "CLIENT_ID = 'XXX' # your Foursquare ID\nCLIENT_SECRET = 'XXX' # your Foursquare Secret\nVERSION = '20180605' # Foursquare API version\nLIMIT = 100\n\nprint('Your credentails:')\nprint('CLIENT_ID: ' )\nprint('CLIENT_SECRET:')"
        }, 
        {
            "execution_count": 14, 
            "cell_type": "code", 
            "metadata": {}, 
            "outputs": [], 
            "source": "def getNearbyVenues(names, latitudes, longitudes, radius = 2000):\n    \n    venues_list=[]\n    for name, lat, lng in zip(names, latitudes, longitudes):            \n        # create the API request URL\n        url = 'https://api.foursquare.com/v2/venues/explore?&client_id={}&client_secret={}&v={}&ll={},{}&radius={}&limit={}'.format(\n            CLIENT_ID, \n            CLIENT_SECRET, \n            VERSION, \n            lat, \n            lng, \n            radius, \n            LIMIT)\n            \n        # make the GET request\n        results = requests.get(url).json()[\"response\"]['groups'][0]['items']\n        \n        # return only relevant information for each nearby venue\n        venues_list.append([(\n            name, \n            lat, \n            lng, \n            v['venue']['name'], \n            v['venue']['location']['lat'], \n            v['venue']['location']['lng'],  \n            v['venue']['categories'][0]['name']) for v in results])\n\n    nearby_venues = pd.DataFrame([item for venue_list in venues_list for item in venue_list])\n    nearby_venues.columns = ['District', \n                  'District Latitude', \n                  'District Longitude', \n                  'Venue', \n                  'Venue Latitude', \n                  'Venue Longitude', \n                  'Venue Category']\n    \n    return(nearby_venues)"
        }, 
        {
            "execution_count": 17, 
            "cell_type": "code", 
            "metadata": {}, 
            "outputs": [], 
            "source": "munich_venues = getNearbyVenues(names = districts_df['District'],\n                                   latitudes = districts_df['Latitudes'],\n                                   longitudes = districts_df['Longitudes']\n                                  )"
        }, 
        {
            "execution_count": 18, 
            "cell_type": "code", 
            "metadata": {}, 
            "outputs": [
                {
                    "execution_count": 18, 
                    "metadata": {}, 
                    "data": {
                        "text/html": "<div>\n<style scoped>\n    .dataframe tbody tr th:only-of-type {\n        vertical-align: middle;\n    }\n\n    .dataframe tbody tr th {\n        vertical-align: top;\n    }\n\n    .dataframe thead th {\n        text-align: right;\n    }\n</style>\n<table border=\"1\" class=\"dataframe\">\n  <thead>\n    <tr style=\"text-align: right;\">\n      <th></th>\n      <th>District</th>\n      <th>District Latitude</th>\n      <th>District Longitude</th>\n      <th>Venue</th>\n      <th>Venue Latitude</th>\n      <th>Venue Longitude</th>\n      <th>Venue Category</th>\n    </tr>\n  </thead>\n  <tbody>\n    <tr>\n      <th>0</th>\n      <td>Altstadt-Lehel</td>\n      <td>48.137828</td>\n      <td>11.574582</td>\n      <td>Marienplatz</td>\n      <td>48.137177</td>\n      <td>11.575561</td>\n      <td>Plaza</td>\n    </tr>\n    <tr>\n      <th>1</th>\n      <td>Altstadt-Lehel</td>\n      <td>48.137828</td>\n      <td>11.574582</td>\n      <td>Alois Dallmayr</td>\n      <td>48.138554</td>\n      <td>11.576750</td>\n      <td>Gourmet Shop</td>\n    </tr>\n    <tr>\n      <th>2</th>\n      <td>Altstadt-Lehel</td>\n      <td>48.137828</td>\n      <td>11.574582</td>\n      <td>Fischbrunnen</td>\n      <td>48.137211</td>\n      <td>11.576047</td>\n      <td>Fountain</td>\n    </tr>\n    <tr>\n      <th>3</th>\n      <td>Altstadt-Lehel</td>\n      <td>48.137828</td>\n      <td>11.574582</td>\n      <td>St. Peter</td>\n      <td>48.136530</td>\n      <td>11.575615</td>\n      <td>Church</td>\n    </tr>\n    <tr>\n      <th>4</th>\n      <td>Altstadt-Lehel</td>\n      <td>48.137828</td>\n      <td>11.574582</td>\n      <td>Rindermarkt</td>\n      <td>48.136099</td>\n      <td>11.573915</td>\n      <td>Plaza</td>\n    </tr>\n  </tbody>\n</table>\n</div>", 
                        "text/plain": "         District  District Latitude  District Longitude           Venue  \\\n0  Altstadt-Lehel          48.137828           11.574582     Marienplatz   \n1  Altstadt-Lehel          48.137828           11.574582  Alois Dallmayr   \n2  Altstadt-Lehel          48.137828           11.574582    Fischbrunnen   \n3  Altstadt-Lehel          48.137828           11.574582       St. Peter   \n4  Altstadt-Lehel          48.137828           11.574582     Rindermarkt   \n\n   Venue Latitude  Venue Longitude Venue Category  \n0       48.137177        11.575561          Plaza  \n1       48.138554        11.576750   Gourmet Shop  \n2       48.137211        11.576047       Fountain  \n3       48.136530        11.575615         Church  \n4       48.136099        11.573915          Plaza  "
                    }, 
                    "output_type": "execute_result"
                }
            ], 
            "source": "munich_venues.head()"
        }, 
        {
            "source": "### one hot encoding", 
            "cell_type": "markdown", 
            "metadata": {}
        }, 
        {
            "execution_count": 21, 
            "cell_type": "code", 
            "metadata": {}, 
            "outputs": [], 
            "source": "munich_onehot = pd.get_dummies(munich_venues[['Venue Category']], prefix=\"\", prefix_sep=\"\")\nmunich_onehot['District'] = munich_venues['District']"
        }, 
        {
            "execution_count": 22, 
            "cell_type": "code", 
            "metadata": {}, 
            "outputs": [
                {
                    "execution_count": 22, 
                    "metadata": {}, 
                    "data": {
                        "text/html": "<div>\n<style scoped>\n    .dataframe tbody tr th:only-of-type {\n        vertical-align: middle;\n    }\n\n    .dataframe tbody tr th {\n        vertical-align: top;\n    }\n\n    .dataframe thead th {\n        text-align: right;\n    }\n</style>\n<table border=\"1\" class=\"dataframe\">\n  <thead>\n    <tr style=\"text-align: right;\">\n      <th></th>\n      <th>District</th>\n      <th>Accessories Store</th>\n      <th>Afghan Restaurant</th>\n      <th>African Restaurant</th>\n      <th>American Restaurant</th>\n      <th>Aquarium</th>\n      <th>Arcade</th>\n      <th>Art Gallery</th>\n      <th>Art Museum</th>\n      <th>Asian Restaurant</th>\n      <th>...</th>\n      <th>Turkish Restaurant</th>\n      <th>Vegetarian / Vegan Restaurant</th>\n      <th>Vietnamese Restaurant</th>\n      <th>Water Park</th>\n      <th>Wine Bar</th>\n      <th>Wine Shop</th>\n      <th>Xinjiang Restaurant</th>\n      <th>Yoga Studio</th>\n      <th>Zoo</th>\n      <th>Zoo Exhibit</th>\n    </tr>\n  </thead>\n  <tbody>\n    <tr>\n      <th>0</th>\n      <td>Allach-Untermenzing</td>\n      <td>0.000000</td>\n      <td>0.00</td>\n      <td>0.0</td>\n      <td>0.00</td>\n      <td>0.0</td>\n      <td>0.0</td>\n      <td>0.00</td>\n      <td>0.00</td>\n      <td>0.000000</td>\n      <td>...</td>\n      <td>0.000000</td>\n      <td>0.0</td>\n      <td>0.037037</td>\n      <td>0.0</td>\n      <td>0.00</td>\n      <td>0.0</td>\n      <td>0.0</td>\n      <td>0.00</td>\n      <td>0.0</td>\n      <td>0.0</td>\n    </tr>\n    <tr>\n      <th>1</th>\n      <td>Altstadt-Lehel</td>\n      <td>0.000000</td>\n      <td>0.00</td>\n      <td>0.0</td>\n      <td>0.01</td>\n      <td>0.0</td>\n      <td>0.0</td>\n      <td>0.01</td>\n      <td>0.01</td>\n      <td>0.000000</td>\n      <td>...</td>\n      <td>0.000000</td>\n      <td>0.0</td>\n      <td>0.000000</td>\n      <td>0.0</td>\n      <td>0.01</td>\n      <td>0.0</td>\n      <td>0.0</td>\n      <td>0.01</td>\n      <td>0.0</td>\n      <td>0.0</td>\n    </tr>\n    <tr>\n      <th>2</th>\n      <td>Au-Haidhausen</td>\n      <td>0.000000</td>\n      <td>0.01</td>\n      <td>0.0</td>\n      <td>0.00</td>\n      <td>0.0</td>\n      <td>0.0</td>\n      <td>0.00</td>\n      <td>0.00</td>\n      <td>0.000000</td>\n      <td>...</td>\n      <td>0.010000</td>\n      <td>0.0</td>\n      <td>0.000000</td>\n      <td>0.0</td>\n      <td>0.02</td>\n      <td>0.0</td>\n      <td>0.0</td>\n      <td>0.01</td>\n      <td>0.0</td>\n      <td>0.0</td>\n    </tr>\n    <tr>\n      <th>3</th>\n      <td>Aubing-Lochhausen-Langwied</td>\n      <td>0.000000</td>\n      <td>0.00</td>\n      <td>0.0</td>\n      <td>0.00</td>\n      <td>0.0</td>\n      <td>0.0</td>\n      <td>0.00</td>\n      <td>0.00</td>\n      <td>0.000000</td>\n      <td>...</td>\n      <td>0.000000</td>\n      <td>0.0</td>\n      <td>0.000000</td>\n      <td>0.0</td>\n      <td>0.00</td>\n      <td>0.0</td>\n      <td>0.0</td>\n      <td>0.00</td>\n      <td>0.0</td>\n      <td>0.0</td>\n    </tr>\n    <tr>\n      <th>4</th>\n      <td>Berg am Laim</td>\n      <td>0.011494</td>\n      <td>0.00</td>\n      <td>0.0</td>\n      <td>0.00</td>\n      <td>0.0</td>\n      <td>0.0</td>\n      <td>0.00</td>\n      <td>0.00</td>\n      <td>0.045977</td>\n      <td>...</td>\n      <td>0.011494</td>\n      <td>0.0</td>\n      <td>0.000000</td>\n      <td>0.0</td>\n      <td>0.00</td>\n      <td>0.0</td>\n      <td>0.0</td>\n      <td>0.00</td>\n      <td>0.0</td>\n      <td>0.0</td>\n    </tr>\n  </tbody>\n</table>\n<p>5 rows \u00d7 229 columns</p>\n</div>", 
                        "text/plain": "                     District  Accessories Store  Afghan Restaurant  \\\n0         Allach-Untermenzing           0.000000               0.00   \n1              Altstadt-Lehel           0.000000               0.00   \n2               Au-Haidhausen           0.000000               0.01   \n3  Aubing-Lochhausen-Langwied           0.000000               0.00   \n4                Berg am Laim           0.011494               0.00   \n\n   African Restaurant  American Restaurant  Aquarium  Arcade  Art Gallery  \\\n0                 0.0                 0.00       0.0     0.0         0.00   \n1                 0.0                 0.01       0.0     0.0         0.01   \n2                 0.0                 0.00       0.0     0.0         0.00   \n3                 0.0                 0.00       0.0     0.0         0.00   \n4                 0.0                 0.00       0.0     0.0         0.00   \n\n   Art Museum  Asian Restaurant     ...       Turkish Restaurant  \\\n0        0.00          0.000000     ...                 0.000000   \n1        0.01          0.000000     ...                 0.000000   \n2        0.00          0.000000     ...                 0.010000   \n3        0.00          0.000000     ...                 0.000000   \n4        0.00          0.045977     ...                 0.011494   \n\n   Vegetarian / Vegan Restaurant  Vietnamese Restaurant  Water Park  Wine Bar  \\\n0                            0.0               0.037037         0.0      0.00   \n1                            0.0               0.000000         0.0      0.01   \n2                            0.0               0.000000         0.0      0.02   \n3                            0.0               0.000000         0.0      0.00   \n4                            0.0               0.000000         0.0      0.00   \n\n   Wine Shop  Xinjiang Restaurant  Yoga Studio  Zoo  Zoo Exhibit  \n0        0.0                  0.0         0.00  0.0          0.0  \n1        0.0                  0.0         0.01  0.0          0.0  \n2        0.0                  0.0         0.01  0.0          0.0  \n3        0.0                  0.0         0.00  0.0          0.0  \n4        0.0                  0.0         0.00  0.0          0.0  \n\n[5 rows x 229 columns]"
                    }, 
                    "output_type": "execute_result"
                }
            ], 
            "source": "munich_grouped = munich_onehot.groupby('District').mean().reset_index()\nmunich_grouped.head()"
        }, 
        {
            "source": "### find dirstrict with highest concentration of beer gardens", 
            "cell_type": "markdown", 
            "metadata": {}
        }, 
        {
            "execution_count": 26, 
            "cell_type": "code", 
            "metadata": {}, 
            "outputs": [
                {
                    "execution_count": 26, 
                    "metadata": {}, 
                    "data": {
                        "text/html": "<div>\n<style scoped>\n    .dataframe tbody tr th:only-of-type {\n        vertical-align: middle;\n    }\n\n    .dataframe tbody tr th {\n        vertical-align: top;\n    }\n\n    .dataframe thead th {\n        text-align: right;\n    }\n</style>\n<table border=\"1\" class=\"dataframe\">\n  <thead>\n    <tr style=\"text-align: right;\">\n      <th></th>\n      <th>District</th>\n      <th>Beer Garden</th>\n    </tr>\n  </thead>\n  <tbody>\n    <tr>\n      <th>5</th>\n      <td>Bogenhausen</td>\n      <td>0.032609</td>\n    </tr>\n    <tr>\n      <th>11</th>\n      <td>Milbertshofen-Am Hart</td>\n      <td>0.030000</td>\n    </tr>\n    <tr>\n      <th>2</th>\n      <td>Au-Haidhausen</td>\n      <td>0.030000</td>\n    </tr>\n    <tr>\n      <th>22</th>\n      <td>Thalkirchen-Obersendling-Forstenried-F\u00fcrstenri...</td>\n      <td>0.030000</td>\n    </tr>\n    <tr>\n      <th>17</th>\n      <td>Schwabing-Freimann</td>\n      <td>0.030000</td>\n    </tr>\n  </tbody>\n</table>\n</div>", 
                        "text/plain": "                                             District  Beer Garden\n5                                         Bogenhausen     0.032609\n11                              Milbertshofen-Am Hart     0.030000\n2                                       Au-Haidhausen     0.030000\n22  Thalkirchen-Obersendling-Forstenried-F\u00fcrstenri...     0.030000\n17                                 Schwabing-Freimann     0.030000"
                    }, 
                    "output_type": "execute_result"
                }
            ], 
            "source": "new_df = munich_grouped[['District','Beer Garden']]\nnew_df.sort_values(by=['Beer Garden'], ascending = False).head()"
        }, 
        {
            "source": "### district with most beer gardens", 
            "cell_type": "markdown", 
            "metadata": {}
        }, 
        {
            "source": "The district with the most beer gardens is Bogenhausen. Therefore circumstances for beer gardens should be very good there.", 
            "cell_type": "markdown", 
            "metadata": {}
        }, 
        {
            "execution_count": 29, 
            "cell_type": "code", 
            "metadata": {}, 
            "outputs": [
                {
                    "execution_count": 29, 
                    "metadata": {}, 
                    "data": {
                        "text/html": "<div>\n<style scoped>\n    .dataframe tbody tr th:only-of-type {\n        vertical-align: middle;\n    }\n\n    .dataframe tbody tr th {\n        vertical-align: top;\n    }\n\n    .dataframe thead th {\n        text-align: right;\n    }\n</style>\n<table border=\"1\" class=\"dataframe\">\n  <thead>\n    <tr style=\"text-align: right;\">\n      <th></th>\n      <th>District</th>\n      <th>Beer Garden</th>\n    </tr>\n  </thead>\n  <tbody>\n    <tr>\n      <th>0</th>\n      <td>Allach-Untermenzing</td>\n      <td>0.00</td>\n    </tr>\n    <tr>\n      <th>3</th>\n      <td>Aubing-Lochhausen-Langwied</td>\n      <td>0.00</td>\n    </tr>\n    <tr>\n      <th>4</th>\n      <td>Berg am Laim</td>\n      <td>0.00</td>\n    </tr>\n    <tr>\n      <th>18</th>\n      <td>Schwabing-West</td>\n      <td>0.00</td>\n    </tr>\n    <tr>\n      <th>6</th>\n      <td>Feldmoching-Hasenbergl</td>\n      <td>0.00</td>\n    </tr>\n    <tr>\n      <th>7</th>\n      <td>Hadern</td>\n      <td>0.00</td>\n    </tr>\n    <tr>\n      <th>10</th>\n      <td>Maxvorstadt</td>\n      <td>0.00</td>\n    </tr>\n    <tr>\n      <th>16</th>\n      <td>Ramersdorf-Perlach</td>\n      <td>0.00</td>\n    </tr>\n    <tr>\n      <th>15</th>\n      <td>Pasing-Obermenzing</td>\n      <td>0.00</td>\n    </tr>\n    <tr>\n      <th>1</th>\n      <td>Altstadt-Lehel</td>\n      <td>0.01</td>\n    </tr>\n  </tbody>\n</table>\n</div>", 
                        "text/plain": "                      District  Beer Garden\n0          Allach-Untermenzing         0.00\n3   Aubing-Lochhausen-Langwied         0.00\n4                 Berg am Laim         0.00\n18              Schwabing-West         0.00\n6       Feldmoching-Hasenbergl         0.00\n7                       Hadern         0.00\n10                 Maxvorstadt         0.00\n16          Ramersdorf-Perlach         0.00\n15          Pasing-Obermenzing         0.00\n1               Altstadt-Lehel         0.01"
                    }, 
                    "output_type": "execute_result"
                }
            ], 
            "source": "new_df.sort_values(by=['Beer Garden'], ascending = True).head(10)"
        }, 
        {
            "source": "### district with no beer garden", 
            "cell_type": "markdown", 
            "metadata": {}
        }, 
        {
            "source": "According to foursquare the first 9 districts above should have no beer gardens. Therefore competition should be very low there.", 
            "cell_type": "markdown", 
            "metadata": {}
        }
    ], 
    "metadata": {
        "kernelspec": {
            "display_name": "Python 3.5", 
            "name": "python3", 
            "language": "python"
        }, 
        "language_info": {
            "mimetype": "text/x-python", 
            "nbconvert_exporter": "python", 
            "version": "3.5.5", 
            "name": "python", 
            "file_extension": ".py", 
            "pygments_lexer": "ipython3", 
            "codemirror_mode": {
                "version": 3, 
                "name": "ipython"
            }
        }
    }, 
    "nbformat": 4
}